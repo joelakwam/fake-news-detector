{
 "cells": [
  {
   "cell_type": "code",
   "execution_count": 1,
   "metadata": {
    "collapsed": true
   },
   "outputs": [],
   "source": [
    "import numpy as np\n",
    "import pandas as pd\n",
    "import matplotlib.pyplot as plt\n",
    "import seaborn as sns\n",
    "import sys\n",
    "import unicodedata\n",
    "\n",
    "%matplotlib inline"
   ]
  },
  {
   "cell_type": "code",
   "execution_count": 2,
   "metadata": {
    "collapsed": false
   },
   "outputs": [],
   "source": [
    "dataset = pd.read_csv('./news.csv')"
   ]
  },
  {
   "cell_type": "code",
   "execution_count": 3,
   "metadata": {
    "collapsed": false
   },
   "outputs": [
    {
     "data": {
      "text/html": [
       "<div>\n",
       "<table border=\"1\" class=\"dataframe\">\n",
       "  <thead>\n",
       "    <tr style=\"text-align: right;\">\n",
       "      <th></th>\n",
       "      <th>Unnamed: 0</th>\n",
       "      <th>title</th>\n",
       "      <th>text</th>\n",
       "      <th>label</th>\n",
       "    </tr>\n",
       "  </thead>\n",
       "  <tbody>\n",
       "    <tr>\n",
       "      <th>0</th>\n",
       "      <td>8476</td>\n",
       "      <td>You Can Smell Hillary’s Fear</td>\n",
       "      <td>Daniel Greenfield, a Shillman Journalism Fello...</td>\n",
       "      <td>FAKE</td>\n",
       "    </tr>\n",
       "    <tr>\n",
       "      <th>1</th>\n",
       "      <td>10294</td>\n",
       "      <td>Watch The Exact Moment Paul Ryan Committed Pol...</td>\n",
       "      <td>Google Pinterest Digg Linkedin Reddit Stumbleu...</td>\n",
       "      <td>FAKE</td>\n",
       "    </tr>\n",
       "    <tr>\n",
       "      <th>2</th>\n",
       "      <td>3608</td>\n",
       "      <td>Kerry to go to Paris in gesture of sympathy</td>\n",
       "      <td>U.S. Secretary of State John F. Kerry said Mon...</td>\n",
       "      <td>REAL</td>\n",
       "    </tr>\n",
       "    <tr>\n",
       "      <th>3</th>\n",
       "      <td>10142</td>\n",
       "      <td>Bernie supporters on Twitter erupt in anger ag...</td>\n",
       "      <td>— Kaydee King (@KaydeeKing) November 9, 2016 T...</td>\n",
       "      <td>FAKE</td>\n",
       "    </tr>\n",
       "    <tr>\n",
       "      <th>4</th>\n",
       "      <td>875</td>\n",
       "      <td>The Battle of New York: Why This Primary Matters</td>\n",
       "      <td>It's primary day in New York and front-runners...</td>\n",
       "      <td>REAL</td>\n",
       "    </tr>\n",
       "  </tbody>\n",
       "</table>\n",
       "</div>"
      ],
      "text/plain": [
       "   Unnamed: 0                                              title  \\\n",
       "0        8476                       You Can Smell Hillary’s Fear   \n",
       "1       10294  Watch The Exact Moment Paul Ryan Committed Pol...   \n",
       "2        3608        Kerry to go to Paris in gesture of sympathy   \n",
       "3       10142  Bernie supporters on Twitter erupt in anger ag...   \n",
       "4         875   The Battle of New York: Why This Primary Matters   \n",
       "\n",
       "                                                text label  \n",
       "0  Daniel Greenfield, a Shillman Journalism Fello...  FAKE  \n",
       "1  Google Pinterest Digg Linkedin Reddit Stumbleu...  FAKE  \n",
       "2  U.S. Secretary of State John F. Kerry said Mon...  REAL  \n",
       "3  — Kaydee King (@KaydeeKing) November 9, 2016 T...  FAKE  \n",
       "4  It's primary day in New York and front-runners...  REAL  "
      ]
     },
     "execution_count": 3,
     "metadata": {},
     "output_type": "execute_result"
    }
   ],
   "source": [
    "dataset.head()"
   ]
  },
  {
   "cell_type": "code",
   "execution_count": 16,
   "metadata": {
    "collapsed": false
   },
   "outputs": [
    {
     "data": {
      "text/plain": [
       "0     8476\n",
       "1    10294\n",
       "2     3608\n",
       "3    10142\n",
       "4      875\n",
       "Name: Unnamed: 0, dtype: int64"
      ]
     },
     "execution_count": 16,
     "metadata": {},
     "output_type": "execute_result"
    }
   ],
   "source": [
    "dataset['Unnamed: 0'][:5]"
   ]
  },
  {
   "cell_type": "code",
   "execution_count": 4,
   "metadata": {
    "collapsed": false
   },
   "outputs": [
    {
     "name": "stdout",
     "output_type": "stream",
     "text": [
      "<class 'pandas.core.frame.DataFrame'>\n",
      "RangeIndex: 6335 entries, 0 to 6334\n",
      "Data columns (total 4 columns):\n",
      "Unnamed: 0    6335 non-null int64\n",
      "title         6335 non-null object\n",
      "text          6335 non-null object\n",
      "label         6335 non-null object\n",
      "dtypes: int64(1), object(3)\n",
      "memory usage: 198.0+ KB\n"
     ]
    }
   ],
   "source": [
    "dataset.info()"
   ]
  },
  {
   "cell_type": "code",
   "execution_count": 5,
   "metadata": {
    "collapsed": false
   },
   "outputs": [
    {
     "data": {
      "text/plain": [
       "(6335, 4)"
      ]
     },
     "execution_count": 5,
     "metadata": {},
     "output_type": "execute_result"
    }
   ],
   "source": [
    "dataset.shape"
   ]
  },
  {
   "cell_type": "code",
   "execution_count": 6,
   "metadata": {
    "collapsed": false
   },
   "outputs": [
    {
     "data": {
      "text/plain": [
       "Index(['Unnamed: 0', 'title', 'text', 'label'], dtype='object')"
      ]
     },
     "execution_count": 6,
     "metadata": {},
     "output_type": "execute_result"
    }
   ],
   "source": [
    "dataset.columns"
   ]
  },
  {
   "cell_type": "code",
   "execution_count": 7,
   "metadata": {
    "collapsed": false
   },
   "outputs": [
    {
     "data": {
      "text/plain": [
       "Unnamed: 0    0\n",
       "title         0\n",
       "text          0\n",
       "label         0\n",
       "dtype: int64"
      ]
     },
     "execution_count": 7,
     "metadata": {},
     "output_type": "execute_result"
    }
   ],
   "source": [
    "dataset.isnull().sum()"
   ]
  },
  {
   "cell_type": "code",
   "execution_count": 13,
   "metadata": {
    "collapsed": true
   },
   "outputs": [],
   "source": [
    "# Convert LABEL feature values to integers for better training (1 for REAL & 0 for FAKE).\n",
    "label_feature_mapping = {'REAL': 1, 'FAKE': 0}\n",
    "\n",
    "dataset['label'] = dataset['label'].map(label_feature_mapping)"
   ]
  },
  {
   "cell_type": "code",
   "execution_count": 14,
   "metadata": {
    "collapsed": false
   },
   "outputs": [
    {
     "data": {
      "text/plain": [
       "0    0\n",
       "1    0\n",
       "2    1\n",
       "3    0\n",
       "4    1\n",
       "Name: label, dtype: int64"
      ]
     },
     "execution_count": 14,
     "metadata": {},
     "output_type": "execute_result"
    }
   ],
   "source": [
    "dataset['label'][:5]"
   ]
  },
  {
   "cell_type": "code",
   "execution_count": 9,
   "metadata": {
    "collapsed": false
   },
   "outputs": [
    {
     "data": {
      "text/plain": [
       "0       Daniel Greenfield, a Shillman Journalism Fello...\n",
       "1       Google Pinterest Digg Linkedin Reddit Stumbleu...\n",
       "2       U.S. Secretary of State John F. Kerry said Mon...\n",
       "3       — Kaydee King (@KaydeeKing) November 9, 2016 T...\n",
       "4       It's primary day in New York and front-runners...\n",
       "5         \\nI’m not an immigrant, but my grandparents ...\n",
       "6       Share This Baylee Luciani (left), Screenshot o...\n",
       "7       A Czech stockbroker who saved more than 650 Je...\n",
       "8       Hillary Clinton and Donald Trump made some ina...\n",
       "9       Iranian negotiators reportedly have made a las...\n",
       "10      CEDAR RAPIDS, Iowa — “I had one of the most wo...\n",
       "11      Donald Trump’s organizational problems have go...\n",
       "12      Click Here To Learn More About Alexandra's Per...\n",
       "13      October 31, 2016 at 4:52 am \\nPretty factual e...\n",
       "14      Killing Obama administration rules, dismantlin...\n",
       "15      As more women move into high offices, they oft...\n",
       "16      Shocking! Michele Obama & Hillary Caught Glamo...\n",
       "17      0 \\nHillary Clinton has barely just lost the p...\n",
       "18      Washington (CNN) For months, the White House a...\n",
       "19      While paging through Pew's best data visualiza...\n",
       "20      With little fanfare this fall, the New York de...\n",
       "21      November 13, 2016 By 21wire Leave a Comment \\n...\n",
       "22      Hillary Clinton told a Staten Island crowd tod...\n",
       "23      Mitch McConnell has an unusual admonition for ...\n",
       "24      Mises.org November 1, 2016 Inferno is a great ...\n",
       "25      Washington (CNN) The faction of the GOP that i...\n",
       "26      Meanwhile, Democrat Bernie Sanders picked up m...\n",
       "27      After a week of nonstop criticism from Democra...\n",
       "28      If you want a glimpse into a presidential cand...\n",
       "29      Syrian War Report – October 31, 2016: Al-Nusra...\n",
       "                              ...                        \n",
       "6305    Print \\n[Ed. – Now teaching the gospel of raci...\n",
       "6306    Sound too “strange” to be true? We have proof!...\n",
       "6307    US abstains from UN vote calling for end to Cu...\n",
       "6308    Tuesday 1 November 2016 by Formelia Alberthine...\n",
       "6309    When Susan E. Rice took over as President Obam...\n",
       "6310    (CNN) ISIS has claimed responsibility for the ...\n",
       "6311    It was inevitable that liberals would end up b...\n",
       "6312    By Kalee Brown\\nWhile I was at university, man...\n",
       "6313    Email \\nDonald Trump is again riling up his vo...\n",
       "6314    BREAKING: Trump Jumps in FL, Takes 4 Point Lea...\n",
       "6315    Police in Charleston, S.C., say a man they sus...\n",
       "6316    Silver of FiveThirtyEight.com has laid out fou...\n",
       "6317    This post was originally published on this sit...\n",
       "6318    BREAKING : Hillary Campaign Manager Deletes hi...\n",
       "6319    Ted Cruz took first prize in the Iowa caucuses...\n",
       "6320    Posted on November 4, 2016 by Charles Hugh Smi...\n",
       "6321    Charlie Baker , Massachusetts (2015–present)[3...\n",
       "6322    vladimir putin , Valdai , sochi , RBTH Daily R...\n",
       "6323    ROME —  U.S. Democratic presidential candidate...\n",
       "6324    Most conservatives who oppose marriage equalit...\n",
       "6325    Written by Peter Van Buren   venerable New Yor...\n",
       "6326    DOJ COMPLAINT: Comey Under Fire Over Partisan ...\n",
       "6327    The freshman senator from Georgia quoted scrip...\n",
       "6328                                                     \n",
       "6329    Julian Assange has claimed the Hillary Clinton...\n",
       "6330    The State Department told the Republican Natio...\n",
       "6331    The ‘P’ in PBS Should Stand for ‘Plutocratic’ ...\n",
       "6332     Anti-Trump Protesters Are Tools of the Oligar...\n",
       "6333    ADDIS ABABA, Ethiopia —President Obama convene...\n",
       "6334    Jeb Bush Is Suddenly Attacking Trump. Here's W...\n",
       "Name: text, dtype: object"
      ]
     },
     "execution_count": 9,
     "metadata": {},
     "output_type": "execute_result"
    }
   ],
   "source": [
    "dataset['text']"
   ]
  },
  {
   "cell_type": "code",
   "execution_count": 10,
   "metadata": {
    "collapsed": false
   },
   "outputs": [],
   "source": [
    "# Create a dictionary that contains all unnecessary punctuation characters.\n",
    "punctuation_dictionary = dict.fromkeys(i for i in range(sys.maxunicode) if unicodedata.category(chr(i)).startswith('P'))"
   ]
  },
  {
   "cell_type": "code",
   "execution_count": 15,
   "metadata": {
    "collapsed": false
   },
   "outputs": [],
   "source": [
    "dataset['text'] = [string.translate(punctuation_dictionary) for string in dataset['text']]"
   ]
  },
  {
   "cell_type": "code",
   "execution_count": 19,
   "metadata": {
    "collapsed": false
   },
   "outputs": [],
   "source": [
    "dataset = dataset.drop(['Unnamed: 0', 'title'], axis = 1)"
   ]
  },
  {
   "cell_type": "code",
   "execution_count": 66,
   "metadata": {
    "collapsed": false
   },
   "outputs": [
    {
     "data": {
      "text/html": [
       "<div>\n",
       "<table border=\"1\" class=\"dataframe\">\n",
       "  <thead>\n",
       "    <tr style=\"text-align: right;\">\n",
       "      <th></th>\n",
       "      <th>text</th>\n",
       "      <th>label</th>\n",
       "    </tr>\n",
       "  </thead>\n",
       "  <tbody>\n",
       "    <tr>\n",
       "      <th>0</th>\n",
       "      <td>Daniel Greenfield a Shillman Journalism Fellow...</td>\n",
       "      <td>0</td>\n",
       "    </tr>\n",
       "    <tr>\n",
       "      <th>1</th>\n",
       "      <td>Google Pinterest Digg Linkedin Reddit Stumbleu...</td>\n",
       "      <td>0</td>\n",
       "    </tr>\n",
       "    <tr>\n",
       "      <th>2</th>\n",
       "      <td>US Secretary of State John F Kerry said Monday...</td>\n",
       "      <td>1</td>\n",
       "    </tr>\n",
       "    <tr>\n",
       "      <th>3</th>\n",
       "      <td>Kaydee King KaydeeKing November 9 2016 The le...</td>\n",
       "      <td>0</td>\n",
       "    </tr>\n",
       "    <tr>\n",
       "      <th>4</th>\n",
       "      <td>Its primary day in New York and frontrunners H...</td>\n",
       "      <td>1</td>\n",
       "    </tr>\n",
       "  </tbody>\n",
       "</table>\n",
       "</div>"
      ],
      "text/plain": [
       "                                                text  label\n",
       "0  Daniel Greenfield a Shillman Journalism Fellow...      0\n",
       "1  Google Pinterest Digg Linkedin Reddit Stumbleu...      0\n",
       "2  US Secretary of State John F Kerry said Monday...      1\n",
       "3   Kaydee King KaydeeKing November 9 2016 The le...      0\n",
       "4  Its primary day in New York and frontrunners H...      1"
      ]
     },
     "execution_count": 66,
     "metadata": {},
     "output_type": "execute_result"
    }
   ],
   "source": [
    "dataset.head()"
   ]
  },
  {
   "cell_type": "code",
   "execution_count": 67,
   "metadata": {
    "collapsed": true
   },
   "outputs": [],
   "source": [
    "number_of_real_news = dataset[dataset['label'] == 1]\n",
    "number_of_fake_news = dataset[dataset['label'] == 0]"
   ]
  },
  {
   "cell_type": "code",
   "execution_count": 68,
   "metadata": {
    "collapsed": false
   },
   "outputs": [
    {
     "data": {
      "text/plain": [
       "(3171, 2)"
      ]
     },
     "execution_count": 68,
     "metadata": {},
     "output_type": "execute_result"
    }
   ],
   "source": [
    "number_of_real_news.shape"
   ]
  },
  {
   "cell_type": "code",
   "execution_count": 69,
   "metadata": {
    "collapsed": false
   },
   "outputs": [
    {
     "data": {
      "text/plain": [
       "(3164, 2)"
      ]
     },
     "execution_count": 69,
     "metadata": {},
     "output_type": "execute_result"
    }
   ],
   "source": [
    "number_of_fake_news.shape"
   ]
  },
  {
   "cell_type": "code",
   "execution_count": 21,
   "metadata": {
    "collapsed": true
   },
   "outputs": [],
   "source": [
    "feature = dataset['text']\n",
    "target = dataset['label']"
   ]
  },
  {
   "cell_type": "code",
   "execution_count": 70,
   "metadata": {
    "collapsed": true
   },
   "outputs": [],
   "source": [
    "from sklearn.feature_extraction.text import TfidfVectorizer\n",
    "from sklearn.cross_validation import train_test_split\n",
    "from sklearn.linear_model import LogisticRegression\n",
    "from sklearn.tree import DecisionTreeClassifier\n",
    "from sklearn.ensemble import RandomForestClassifier\n",
    "from sklearn.metrics import accuracy_score"
   ]
  },
  {
   "cell_type": "code",
   "execution_count": 46,
   "metadata": {
    "collapsed": true
   },
   "outputs": [],
   "source": [
    "# Split data into TRAINING and TESTING.\n",
    "# 80% and 20% for the features (x_train & y_train).\n",
    "# 80% and 20% for the target (y_train & y_test).\n",
    "x_train, x_test, y_train, y_test = train_test_split(feature, target, test_size = 0.2, random_state = 0)"
   ]
  },
  {
   "cell_type": "code",
   "execution_count": 47,
   "metadata": {
    "collapsed": false
   },
   "outputs": [
    {
     "data": {
      "text/plain": [
       "2402    Christian Whiton is a former deputy special en...\n",
       "1922    Super Tuesday Brings Harsh Light And Heartache...\n",
       "3475    Prev post Page 1 of 4 Next \\nNurses are among ...\n",
       "6197    The deadly hostage situation at a luxury hotel...\n",
       "4748    Our new country Women and minorities hit harde...\n",
       "Name: text, dtype: object"
      ]
     },
     "execution_count": 47,
     "metadata": {},
     "output_type": "execute_result"
    }
   ],
   "source": [
    "x_train.head()"
   ]
  },
  {
   "cell_type": "code",
   "execution_count": 55,
   "metadata": {
    "collapsed": false
   },
   "outputs": [
    {
     "data": {
      "text/plain": [
       "(5068,)"
      ]
     },
     "execution_count": 55,
     "metadata": {},
     "output_type": "execute_result"
    }
   ],
   "source": [
    "x_train.shape"
   ]
  },
  {
   "cell_type": "code",
   "execution_count": 48,
   "metadata": {
    "collapsed": false
   },
   "outputs": [
    {
     "data": {
      "text/plain": [
       "3789    Watch the above reports by CBNs David Brody an...\n",
       "733      Bernie Sanders BernieSanders October 27 2016 ...\n",
       "4783    \\nAs of October 29 there have been at least 14...\n",
       "3067    Members of Congress have said that if Hillary ...\n",
       "5288    Julian Zelizer is a professor of history and p...\n",
       "Name: text, dtype: object"
      ]
     },
     "execution_count": 48,
     "metadata": {},
     "output_type": "execute_result"
    }
   ],
   "source": [
    "x_test.head()"
   ]
  },
  {
   "cell_type": "code",
   "execution_count": 56,
   "metadata": {
    "collapsed": false
   },
   "outputs": [
    {
     "data": {
      "text/plain": [
       "(1267,)"
      ]
     },
     "execution_count": 56,
     "metadata": {},
     "output_type": "execute_result"
    }
   ],
   "source": [
    "x_test.shape"
   ]
  },
  {
   "cell_type": "code",
   "execution_count": 49,
   "metadata": {
    "collapsed": false
   },
   "outputs": [
    {
     "data": {
      "text/plain": [
       "2402    1\n",
       "1922    1\n",
       "3475    0\n",
       "6197    1\n",
       "4748    0\n",
       "Name: label, dtype: int64"
      ]
     },
     "execution_count": 49,
     "metadata": {},
     "output_type": "execute_result"
    }
   ],
   "source": [
    "y_train.head()"
   ]
  },
  {
   "cell_type": "code",
   "execution_count": 57,
   "metadata": {
    "collapsed": false
   },
   "outputs": [
    {
     "data": {
      "text/plain": [
       "(5068,)"
      ]
     },
     "execution_count": 57,
     "metadata": {},
     "output_type": "execute_result"
    }
   ],
   "source": [
    "y_train.shape"
   ]
  },
  {
   "cell_type": "code",
   "execution_count": 50,
   "metadata": {
    "collapsed": false
   },
   "outputs": [
    {
     "data": {
      "text/plain": [
       "3789    1\n",
       "733     0\n",
       "4783    0\n",
       "3067    0\n",
       "5288    1\n",
       "Name: label, dtype: int64"
      ]
     },
     "execution_count": 50,
     "metadata": {},
     "output_type": "execute_result"
    }
   ],
   "source": [
    "y_test.head()"
   ]
  },
  {
   "cell_type": "code",
   "execution_count": 58,
   "metadata": {
    "collapsed": false
   },
   "outputs": [
    {
     "data": {
      "text/plain": [
       "(1267,)"
      ]
     },
     "execution_count": 58,
     "metadata": {},
     "output_type": "execute_result"
    }
   ],
   "source": [
    "y_test.shape"
   ]
  },
  {
   "cell_type": "code",
   "execution_count": 51,
   "metadata": {
    "collapsed": true
   },
   "outputs": [],
   "source": [
    "vectorizer = TfidfVectorizer()\n",
    "vectorized_x_train = vectorizer.fit_transform(x_train)\n",
    "vectorized_x_test = vectorizer.transform(x_test)"
   ]
  },
  {
   "cell_type": "code",
   "execution_count": 71,
   "metadata": {
    "collapsed": false
   },
   "outputs": [
    {
     "name": "stdout",
     "output_type": "stream",
     "text": [
      "90.29\n"
     ]
    }
   ],
   "source": [
    "# Logistic Regression.\n",
    "logistic_regressor = LogisticRegression()\n",
    "logistic_regressor.fit(vectorized_x_train, y_train) # <-- Train using the 80% of the features (x_train) and targets (y_train).\n",
    "logistic_regressor_predictions = logistic_regressor.predict(vectorized_x_test) # <-- Predict the 20% of the feature (x_test).\n",
    "accuracy_score_of_logistic_regressor = round(accuracy_score(logistic_regressor_predictions, y_test) * 100, 2) # <-- Compare model accuracy using the predictions (x_test) made with the 20% test (y_test).  \n",
    "print(accuracy_score_of_logistic_regressor)"
   ]
  },
  {
   "cell_type": "code",
   "execution_count": 73,
   "metadata": {
    "collapsed": false
   },
   "outputs": [
    {
     "name": "stdout",
     "output_type": "stream",
     "text": [
      "80.35\n"
     ]
    }
   ],
   "source": [
    "# Decision Tree Classifier.\n",
    "decision_tree = DecisionTreeClassifier()\n",
    "decision_tree.fit(vectorized_x_train, y_train)\n",
    "decision_tree_predictions = decision_tree.predict(vectorized_x_test)\n",
    "accuracy_score_of_decision_tree = round(accuracy_score(decision_tree_predictions, y_test) * 100, 2)\n",
    "print(accuracy_score_of_decision_tree)"
   ]
  },
  {
   "cell_type": "code",
   "execution_count": 74,
   "metadata": {
    "collapsed": false
   },
   "outputs": [
    {
     "name": "stdout",
     "output_type": "stream",
     "text": [
      "82.16\n"
     ]
    }
   ],
   "source": [
    "# Random Forest Classifier.\n",
    "random_forest_classifier = RandomForestClassifier()\n",
    "random_forest_classifier.fit(vectorized_x_train, y_train)\n",
    "random_forest_classifier_predictions = random_forest_classifier.predict(vectorized_x_test)\n",
    "accuracy_score_of_random_forest_classifier = round(accuracy_score(random_forest_classifier_predictions, y_test) * 100, 2)\n",
    "print(accuracy_score_of_random_forest_classifier)"
   ]
  },
  {
   "cell_type": "code",
   "execution_count": null,
   "metadata": {
    "collapsed": true
   },
   "outputs": [],
   "source": []
  }
 ],
 "metadata": {
  "anaconda-cloud": {},
  "kernelspec": {
   "display_name": "Python [Root]",
   "language": "python",
   "name": "Python [Root]"
  },
  "language_info": {
   "codemirror_mode": {
    "name": "ipython",
    "version": 3
   },
   "file_extension": ".py",
   "mimetype": "text/x-python",
   "name": "python",
   "nbconvert_exporter": "python",
   "pygments_lexer": "ipython3",
   "version": "3.5.2"
  }
 },
 "nbformat": 4,
 "nbformat_minor": 0
}
